{
 "cells": [
  {
   "cell_type": "markdown",
   "id": "13afcae7",
   "metadata": {},
   "source": [
    "# MyScale\n",
    "\n",
    ">[MyScale](https://docs.myscale.com/en/) is an integrated vector database. You can access your database in SQL and also from here, LangChain.\n",
    ">`MyScale` can make use of [various data types and functions for filters](https://blog.myscale.com/2023/06/06/why-integrated-database-solution-can-boost-your-llm-apps/#filter-on-anything-without-constraints). It will boost up your LLM app no matter if you are scaling up your data or expand your system to broader application.\n",
    "\n",
    "In the notebook, we'll demo the `SelfQueryRetriever` wrapped around a `MyScale` vector store with some extra pieces we contributed to LangChain. \n",
    "\n",
    "In short, it can be condensed into 4 points:\n",
    "1. Add `contain` comparator to match the list of any if there is more than one element matched\n",
    "2. Add `timestamp` data type for datetime match (ISO-format, or YYYY-MM-DD)\n",
    "3. Add `like` comparator for string pattern search\n",
    "4. Add arbitrary function capability"
   ]
  },
  {
   "cell_type": "markdown",
   "id": "68e75fb9",
   "metadata": {},
   "source": [
    "## Creating a MyScale vector store\n",
    "MyScale has already been integrated to LangChain for a while. So you can follow [this notebook](/docs/integrations/vectorstores/myscale) to create your own vectorstore for a self-query retriever.\n",
    "\n",
    "**Note:** All self-query retrievers requires you to have `lark` installed (`pip install lark`). We use `lark` for grammar definition. Before you proceed to the next step, we also want to remind you that `clickhouse-connect` is also needed to interact with your MyScale backend."
   ]
  },
  {
   "cell_type": "code",
   "execution_count": null,
   "id": "63a8af5b",
   "metadata": {
    "tags": []
   },
   "outputs": [],
   "source": [
    "! pip install lark clickhouse-connect langchain-core"
   ]
  },
  {
   "cell_type": "markdown",
   "id": "83811610-7df3-4ede-b268-68a6a83ba9e2",
   "metadata": {},
   "source": [
    "In this tutorial we follow other example's setting and use `OpenAIEmbeddings`. Remember to get an OpenAI API Key for valid access to LLMs."
   ]
  },
  {
   "cell_type": "code",
   "execution_count": 1,
   "id": "dd01b61b-7d32-4a55-85d6-b2d2d4f18840",
   "metadata": {
    "tags": []
   },
   "outputs": [],
   "source": [
    "import getpass\n",
    "import os\n",
    "\n",
    "os.environ[\"OPENAI_API_KEY\"] = getpass.getpass(\"OpenAI API Key:\")\n",
    "os.environ[\"MYSCALE_HOST\"] = getpass.getpass(\"MyScale URL:\")\n",
    "os.environ[\"MYSCALE_PORT\"] = getpass.getpass(\"MyScale Port:\")\n",
    "os.environ[\"MYSCALE_USERNAME\"] = getpass.getpass(\"MyScale Username:\")\n",
    "os.environ[\"MYSCALE_PASSWORD\"] = getpass.getpass(\"MyScale Password:\")"
   ]
  },
  {
   "cell_type": "code",
   "execution_count": 2,
   "id": "cb4a5787",
   "metadata": {
    "tags": []
   },
   "outputs": [],
   "source": [
    "from langchain.embeddings.openai import OpenAIEmbeddings\n",
    "from langchain.schema import Document\n",
    "from langchain.vectorstores import MyScale\n",
    "\n",
    "embeddings = OpenAIEmbeddings()"
   ]
  },
  {
   "cell_type": "markdown",
   "id": "bf7f6fc4",
   "metadata": {},
   "source": [
    "## Create some sample data\n",
    "As you can see, the data we created has some differences compared to other self-query retrievers. We replaced the keyword `year` with `date` which gives you finer control on timestamps. We also changed the type of the keyword `gerne` to a list of strings, where an LLM can use a new `contain` comparator to construct filters. We also provide the `like` comparator and arbitrary function support to filters, which will be introduced in next few cells.\n",
    "\n",
    "Now let's look at the data first."
   ]
  },
  {
   "cell_type": "code",
   "execution_count": null,
   "id": "bcbe04d9",
   "metadata": {
    "tags": []
   },
   "outputs": [],
   "source": [
    "docs = [\n",
    "    Document(\n",
    "        page_content=\"A bunch of scientists bring back dinosaurs and mayhem breaks loose\",\n",
    "        metadata={\"date\": \"1993-07-02\", \"rating\": 7.7, \"genre\": [\"science fiction\"]},\n",
    "    ),\n",
    "    Document(\n",
    "        page_content=\"Leo DiCaprio gets lost in a dream within a dream within a dream within a ...\",\n",
    "        metadata={\"date\": \"2010-12-30\", \"director\": \"Christopher Nolan\", \"rating\": 8.2},\n",
    "    ),\n",
    "    Document(\n",
    "        page_content=\"A psychologist / detective gets lost in a series of dreams within dreams within dreams and Inception reused the idea\",\n",
    "        metadata={\"date\": \"2006-04-23\", \"director\": \"Satoshi Kon\", \"rating\": 8.6},\n",
    "    ),\n",
    "    Document(\n",
    "        page_content=\"A bunch of normal-sized women are supremely wholesome and some men pine after them\",\n",
    "        metadata={\"date\": \"2019-08-22\", \"director\": \"Greta Gerwig\", \"rating\": 8.3},\n",
    "    ),\n",
    "    Document(\n",
    "        page_content=\"Toys come alive and have a blast doing so\",\n",
    "        metadata={\"date\": \"1995-02-11\", \"genre\": [\"animation\"]},\n",
    "    ),\n",
    "    Document(\n",
    "        page_content=\"Three men walk into the Zone, three men walk out of the Zone\",\n",
    "        metadata={\n",
    "            \"date\": \"1979-09-10\",\n",
    "            \"director\": \"Andrei Tarkovsky\",\n",
    "            \"genre\": [\"science fiction\", \"adventure\"],\n",
    "            \"rating\": 9.9,\n",
    "        },\n",
    "    ),\n",
    "]\n",
    "vectorstore = MyScale.from_documents(\n",
    "    docs,\n",
    "    embeddings,\n",
    ")"
   ]
  },
  {
   "cell_type": "markdown",
   "id": "5ecaab6d",
   "metadata": {},
   "source": [
    "## Creating our self-querying retriever\n",
    "Just like other retrievers... simple and nice.\n",
    "\n",
    "We also introduce you the `VirtualColumnName`, where you can prompt your columns that links to certain SQL functions / columns.\n",
    "\n",
    "Self query retrievers are powerful and it can be even stronger than before. Taking MyScale as an example, sometimes the user may add complex SQL function to a column name. So we add a `VirtualColumnName` for self-query retriever to reduce token usage with extra functionality.\n",
    "\n",
    "1. a function that dynamically creates function mapped column names, which becomes handy when the user want to compare between current time / location or other attributes along with a column.\n",
    "2. complex function call in plain string can now be replaced with a shorter nickname in prompt, which saves number of token for very long function names.\n",
    "3. refined the logic in MyScale translator to meet this standard.\n",
    "\n",
    "This change will not affect other self query retrievers as it preserves the original plain string interface under comparison. The actual difference happens under `QueryTransformer` in `query_construct.parser` for `Lark` parser.\n",
    "\n",
    "`Comparator.attribute` can now be either a string or a `VirtualColumnName`. I have defined the default behaviour which stops the user to use `VirtualColumnName` under other vectorstores than MyScale.\n",
    "\n",
    "This functionality will boost the self-query retrievers as a bridge between text and simple SQL query. And we believe this will help users to expand their usage to this retriever. Other SQL vector database is theoretically compatible to this new feature as well.\n"
   ]
  },
  {
   "cell_type": "code",
   "execution_count": 4,
   "id": "86e34dbf",
   "metadata": {
    "tags": []
   },
   "outputs": [],
   "source": [
    "from langchain.chains.query_constructor.base import AttributeInfo, VirtualColumnName\n",
    "from langchain.llms import OpenAI\n",
    "from langchain.retrievers.self_query.base import SelfQueryRetriever\n",
    "\n",
    "metadata_field_info = [\n",
    "    # You can use plain string to specify a column\n",
    "    # If not specified, the MyScale's Self querying retriever will append `metadata.<your-attribute-name>` to your column.\n",
    "    # This is a default behavior if you used LangChain to insert data into MyScale\n",
    "    # the line below is equivalent to\n",
    "    #   |||\n",
    "    #   vvv\n",
    "    # AttributeInfo(\n",
    "    #     name=VirtualColumnName(\n",
    "    #         name=\"genre\", column=f\"{vectorstore.metadata_column}.genre\"\n",
    "    #     ),\n",
    "    #     description=\"The length of genres of the movie\",\n",
    "    #     type=\"integer\",\n",
    "    # )\n",
    "    AttributeInfo(\n",
    "        name=\"genre\",\n",
    "        description=\"The genres of the movie\",\n",
    "        type=\"list[string]\",\n",
    "    ),\n",
    "    # Or if you wang to use a customized column name, you should use virtual column name\n",
    "    # This will help you to expand how you can use this self query retriever\n",
    "    # If you want to include length of a list, just define it as a new column\n",
    "    # This will teach the LLM to use it as a column when constructing filter.\n",
    "    AttributeInfo(\n",
    "        name=VirtualColumnName(\n",
    "            name=\"length(genre)\", column=f\"length({vectorstore.metadata_column}.genre)\"\n",
    "        ),\n",
    "        description=\"The length of genres of the movie\",\n",
    "        type=\"integer\",\n",
    "    ),\n",
    "    # Virtual columns can also help you with SQL functions.\n",
    "    # Now you can define a column as timestamp. By simply set the type to timestamp.\n",
    "    AttributeInfo(\n",
    "        # Virtual column names are used for translating long name for columns\n",
    "        name=VirtualColumnName(\n",
    "            name=\"date\",\n",
    "            column=f\"parseDateTime32BestEffort({vectorstore.metadata_column}.date)\",\n",
    "        ),\n",
    "        description=\"The date the movie was released\",\n",
    "        type=\"timestamp\",\n",
    "    ),\n",
    "    AttributeInfo(\n",
    "        name=VirtualColumnName(\n",
    "            name=\"director\", column=f\"{vectorstore.metadata_column}.director\"\n",
    "        ),\n",
    "        description=\"The name of the movie director\",\n",
    "        type=\"string\",\n",
    "    ),\n",
    "    AttributeInfo(\n",
    "        name=VirtualColumnName(\n",
    "            name=\"rating\", column=f\"{vectorstore.metadata_column}.rating\"\n",
    "        ),\n",
    "        description=\"A 1-10 rating for the movie\",\n",
    "        type=\"float\",\n",
    "    ),\n",
    "]\n",
    "document_content_description = \"Brief summary of a movie\"\n",
    "llm = OpenAI(temperature=0)\n",
    "retriever = SelfQueryRetriever.from_llm(\n",
    "    llm, vectorstore, document_content_description, metadata_field_info, verbose=True\n",
    ")"
   ]
  },
  {
   "cell_type": "markdown",
   "id": "ea9df8d4",
   "metadata": {},
   "source": [
    "## Testing it out with self-query retriever's existing functionalities\n",
    "And now we can try actually using our retriever!"
   ]
  },
  {
   "cell_type": "code",
   "execution_count": 5,
   "id": "38a126e9",
   "metadata": {},
   "outputs": [
    {
     "name": "stdout",
     "output_type": "stream",
     "text": [
      "query='dinosaur' filter=None limit=None\n"
     ]
    },
    {
     "data": {
      "text/plain": [
       "[Document(page_content='A bunch of scientists bring back dinosaurs and mayhem breaks loose', metadata={'date': '1993-07-02', 'director': '', 'genre': ['science fiction'], 'rating': 7.7}),\n",
       " Document(page_content='Toys come alive and have a blast doing so', metadata={'date': '1995-02-11', 'director': '', 'genre': ['animation'], 'rating': 0.0}),\n",
       " Document(page_content='Three men walk into the Zone, three men walk out of the Zone', metadata={'date': '1979-09-10', 'director': 'Andrei Tarkovsky', 'genre': ['science fiction', 'adventure'], 'rating': 9.9}),\n",
       " Document(page_content='A psychologist / detective gets lost in a series of dreams within dreams within dreams and Inception reused the idea', metadata={'date': '2006-04-23', 'director': 'Satoshi Kon', 'genre': [], 'rating': 8.6})]"
      ]
     },
     "execution_count": 5,
     "metadata": {},
     "output_type": "execute_result"
    }
   ],
   "source": [
    "# This example only specifies a relevant query\n",
    "retriever.get_relevant_documents(\"What are some movies about dinosaurs\")"
   ]
  },
  {
   "cell_type": "code",
   "execution_count": 6,
   "id": "fc3f1e6e",
   "metadata": {},
   "outputs": [
    {
     "name": "stdout",
     "output_type": "stream",
     "text": [
      "query=' ' filter=Comparison(comparator=<Comparator.GT: 'gt'>, attribute='metadata.rating', value=8.5) limit=None\n"
     ]
    },
    {
     "data": {
      "text/plain": [
       "[Document(page_content='Three men walk into the Zone, three men walk out of the Zone', metadata={'date': '1979-09-10', 'director': 'Andrei Tarkovsky', 'genre': ['science fiction', 'adventure'], 'rating': 9.9}),\n",
       " Document(page_content='A psychologist / detective gets lost in a series of dreams within dreams within dreams and Inception reused the idea', metadata={'date': '2006-04-23', 'director': 'Satoshi Kon', 'genre': [], 'rating': 8.6})]"
      ]
     },
     "execution_count": 6,
     "metadata": {},
     "output_type": "execute_result"
    }
   ],
   "source": [
    "# This example only specifies a filter\n",
    "retriever.get_relevant_documents(\"I want to watch a movie rated higher than 8.5\")"
   ]
  },
  {
   "cell_type": "code",
   "execution_count": 7,
   "id": "b19d4da0",
   "metadata": {},
   "outputs": [
    {
     "name": "stdout",
     "output_type": "stream",
     "text": [
      "query='women' filter=Comparison(comparator=<Comparator.EQ: 'eq'>, attribute='metadata.director', value='Greta Gerwig') limit=None\n"
     ]
    },
    {
     "data": {
      "text/plain": [
       "[Document(page_content='A bunch of normal-sized women are supremely wholesome and some men pine after them', metadata={'date': '2019-08-22', 'director': 'Greta Gerwig', 'genre': [], 'rating': 8.3})]"
      ]
     },
     "execution_count": 7,
     "metadata": {},
     "output_type": "execute_result"
    }
   ],
   "source": [
    "# This example specifies a query and a filter\n",
    "retriever.get_relevant_documents(\"Has Greta Gerwig directed any movies about women\")"
   ]
  },
  {
   "cell_type": "code",
   "execution_count": 8,
   "id": "f900e40e",
   "metadata": {},
   "outputs": [
    {
     "name": "stdout",
     "output_type": "stream",
     "text": [
      "query=' ' filter=Operation(operator=<Operator.AND: 'and'>, arguments=[Comparison(comparator=<Comparator.GT: 'gt'>, attribute='metadata.rating', value=8.5), Comparison(comparator=<Comparator.CONTAIN: 'contain'>, attribute='genre', value='science fiction')]) limit=None\n"
     ]
    },
    {
     "data": {
      "text/plain": [
       "[Document(page_content='Three men walk into the Zone, three men walk out of the Zone', metadata={'date': '1979-09-10', 'director': 'Andrei Tarkovsky', 'genre': ['science fiction', 'adventure'], 'rating': 9.9})]"
      ]
     },
     "execution_count": 8,
     "metadata": {},
     "output_type": "execute_result"
    }
   ],
   "source": [
    "# This example specifies a composite filter\n",
    "retriever.get_relevant_documents(\n",
    "    \"What's a highly rated (above 8.5) science fiction film?\"\n",
    ")"
   ]
  },
  {
   "cell_type": "code",
   "execution_count": 9,
   "id": "12a51522",
   "metadata": {},
   "outputs": [
    {
     "name": "stdout",
     "output_type": "stream",
     "text": [
      "query='toys' filter=Operation(operator=<Operator.AND: 'and'>, arguments=[Comparison(comparator=<Comparator.GT: 'gt'>, attribute='parseDateTime32BestEffort(metadata.date)', value={'date': '1990-01-01', 'type': 'date'}), Comparison(comparator=<Comparator.LT: 'lt'>, attribute='parseDateTime32BestEffort(metadata.date)', value={'date': '2005-12-31', 'type': 'date'}), Comparison(comparator=<Comparator.CONTAIN: 'contain'>, attribute='genre', value='animation')]) limit=None\n"
     ]
    },
    {
     "data": {
      "text/plain": [
       "[Document(page_content='Toys come alive and have a blast doing so', metadata={'date': '1995-02-11', 'director': '', 'genre': ['animation'], 'rating': 0.0})]"
      ]
     },
     "execution_count": 9,
     "metadata": {},
     "output_type": "execute_result"
    }
   ],
   "source": [
    "# This example specifies a query and composite filter\n",
    "retriever.get_relevant_documents(\n",
    "    \"What's a movie after 1990 but before 2005 that's all about toys, and preferably is animation\"\n",
    ")"
   ]
  },
  {
   "cell_type": "markdown",
   "id": "86371ac8",
   "metadata": {},
   "source": [
    "# Wait a second... what else?\n",
    "\n",
    "Self-query retriever with MyScale can do more! Let's find out."
   ]
  },
  {
   "cell_type": "code",
   "execution_count": 10,
   "id": "1d043096",
   "metadata": {},
   "outputs": [
    {
     "name": "stdout",
     "output_type": "stream",
     "text": [
      "query=' ' filter=Comparison(comparator=<Comparator.GT: 'gt'>, attribute='length(metadata.genre)', value=1) limit=None\n"
     ]
    },
    {
     "data": {
      "text/plain": [
       "[Document(page_content='Three men walk into the Zone, three men walk out of the Zone', metadata={'date': '1979-09-10', 'director': 'Andrei Tarkovsky', 'genre': ['science fiction', 'adventure'], 'rating': 9.9})]"
      ]
     },
     "execution_count": 10,
     "metadata": {},
     "output_type": "execute_result"
    }
   ],
   "source": [
    "# You can use length(genres) to do anything you want\n",
    "retriever.get_relevant_documents(\"What's a movie that have more than 1 genres?\")"
   ]
  },
  {
   "cell_type": "code",
   "execution_count": 11,
   "id": "d570d33c",
   "metadata": {},
   "outputs": [
    {
     "name": "stdout",
     "output_type": "stream",
     "text": [
      "query=' ' filter=Comparison(comparator=<Comparator.GT: 'gt'>, attribute='parseDateTime32BestEffort(metadata.date)', value={'date': '1995-02-01', 'type': 'date'}) limit=None\n"
     ]
    },
    {
     "data": {
      "text/plain": [
       "[Document(page_content='Toys come alive and have a blast doing so', metadata={'date': '1995-02-11', 'director': '', 'genre': ['animation'], 'rating': 0.0}),\n",
       " Document(page_content='A bunch of normal-sized women are supremely wholesome and some men pine after them', metadata={'date': '2019-08-22', 'director': 'Greta Gerwig', 'genre': [], 'rating': 8.3}),\n",
       " Document(page_content='Leo DiCaprio gets lost in a dream within a dream within a dream within a ...', metadata={'date': '2010-12-30', 'director': 'Christopher Nolan', 'genre': [], 'rating': 8.2}),\n",
       " Document(page_content='A psychologist / detective gets lost in a series of dreams within dreams within dreams and Inception reused the idea', metadata={'date': '2006-04-23', 'director': 'Satoshi Kon', 'genre': [], 'rating': 8.6})]"
      ]
     },
     "execution_count": 11,
     "metadata": {},
     "output_type": "execute_result"
    }
   ],
   "source": [
    "# Fine-grained datetime? You got it already.\n",
    "retriever.get_relevant_documents(\"What's a movie that release after feb 1995?\")"
   ]
  },
  {
   "cell_type": "code",
   "execution_count": 12,
   "id": "fbe0b21b",
   "metadata": {},
   "outputs": [
    {
     "name": "stdout",
     "output_type": "stream",
     "text": [
      "query='Andrei' filter=Comparison(comparator=<Comparator.LIKE: 'like'>, attribute='metadata.director', value='Andrei') limit=None\n"
     ]
    },
    {
     "data": {
      "text/plain": [
       "[Document(page_content='Three men walk into the Zone, three men walk out of the Zone', metadata={'date': '1979-09-10', 'director': 'Andrei Tarkovsky', 'genre': ['science fiction', 'adventure'], 'rating': 9.9})]"
      ]
     },
     "execution_count": 12,
     "metadata": {},
     "output_type": "execute_result"
    }
   ],
   "source": [
    "# Don't know what your exact filter should be? Use string pattern match!\n",
    "retriever.get_relevant_documents(\"What's a movie whose name is like Andrei?\")"
   ]
  },
  {
   "cell_type": "code",
   "execution_count": 13,
   "id": "6a514104",
   "metadata": {},
   "outputs": [
    {
     "name": "stdout",
     "output_type": "stream",
     "text": [
      "query=' ' filter=Operation(operator=<Operator.AND: 'and'>, arguments=[Comparison(comparator=<Comparator.CONTAIN: 'contain'>, attribute='genre', value='science fiction'), Comparison(comparator=<Comparator.CONTAIN: 'contain'>, attribute='genre', value='adventure')]) limit=None\n"
     ]
    },
    {
     "data": {
      "text/plain": [
       "[Document(page_content='Three men walk into the Zone, three men walk out of the Zone', metadata={'date': '1979-09-10', 'director': 'Andrei Tarkovsky', 'genre': ['science fiction', 'adventure'], 'rating': 9.9})]"
      ]
     },
     "execution_count": 13,
     "metadata": {},
     "output_type": "execute_result"
    }
   ],
   "source": [
    "# Contain works for lists: so you can match a list with contain comparator!\n",
    "retriever.get_relevant_documents(\n",
    "    \"What's a movie who has genres science fiction and adventure?\"\n",
    ")"
   ]
  },
  {
   "cell_type": "markdown",
   "id": "39bd1de1-b9fe-4a98-89da-58d8a7a6ae51",
   "metadata": {},
   "source": [
    "## Filter k\n",
    "\n",
    "We can also use the self query retriever to specify `k`: the number of documents to fetch.\n",
    "\n",
    "We can do this by passing `enable_limit=True` to the constructor."
   ]
  },
  {
   "cell_type": "code",
   "execution_count": 14,
   "id": "bff36b88-b506-4877-9c63-e5a1a8d78e64",
   "metadata": {
    "tags": []
   },
   "outputs": [],
   "source": [
    "retriever = SelfQueryRetriever.from_llm(\n",
    "    llm,\n",
    "    vectorstore,\n",
    "    document_content_description,\n",
    "    metadata_field_info,\n",
    "    enable_limit=True,\n",
    "    verbose=True,\n",
    ")"
   ]
  },
  {
   "cell_type": "code",
   "execution_count": 15,
   "id": "2758d229-4f97-499c-819f-888acaf8ee10",
   "metadata": {
    "tags": []
   },
   "outputs": [
    {
     "name": "stdout",
     "output_type": "stream",
     "text": [
      "query='dinosaur' filter=None limit=2\n"
     ]
    },
    {
     "data": {
      "text/plain": [
       "[Document(page_content='A bunch of scientists bring back dinosaurs and mayhem breaks loose', metadata={'date': '1993-07-02', 'director': '', 'genre': ['science fiction'], 'rating': 7.7}),\n",
       " Document(page_content='Toys come alive and have a blast doing so', metadata={'date': '1995-02-11', 'director': '', 'genre': ['animation'], 'rating': 0.0})]"
      ]
     },
     "execution_count": 15,
     "metadata": {},
     "output_type": "execute_result"
    }
   ],
   "source": [
    "# This example only specifies a relevant query\n",
    "retriever.get_relevant_documents(\"what are two movies about dinosaurs\")"
   ]
  }
 ],
 "metadata": {
  "kernelspec": {
   "display_name": "Python 3 (ipykernel)",
   "language": "python",
   "name": "python3"
  },
  "language_info": {
   "codemirror_mode": {
    "name": "ipython",
    "version": 3
   },
   "file_extension": ".py",
   "mimetype": "text/x-python",
   "name": "python",
   "nbconvert_exporter": "python",
   "pygments_lexer": "ipython3",
   "version": "3.9.17"
  }
 },
 "nbformat": 4,
 "nbformat_minor": 5
}
